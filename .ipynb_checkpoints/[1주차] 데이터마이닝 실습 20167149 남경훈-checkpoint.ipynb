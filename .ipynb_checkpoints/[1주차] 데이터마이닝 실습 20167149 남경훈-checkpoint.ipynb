{
 "cells": [
  {
   "cell_type": "markdown",
   "metadata": {},
   "source": [
    "# ●데이터마이닝 1주차 실습\n",
    "# 1. 10개의 연속값(2의배수 10개)이 저장되는 배열을 생성하여 배열의 최대값, 평균을 구하는 함수를 정의하여 결과 확인."
   ]
  },
  {
   "cell_type": "code",
   "execution_count": 6,
   "metadata": {},
   "outputs": [
    {
     "name": "stdout",
     "output_type": "stream",
     "text": [
      "10개의 연속값 (2의 배수 10개): [2, 4, 6, 8, 10, 12, 14, 16, 18, 20]\n",
      "최대값: 20\n",
      "평균값 11.0\n"
     ]
    }
   ],
   "source": [
    "data = [] #데이터라는 변수에 리스트를 선언\n",
    "\n",
    "for i in range(2,22,2): #2부터 시작해서 21까지 2씩 증가(사용자 정의)\n",
    "    data.append(i) #추가로 넣기\n",
    "    \n",
    "print(\"10개의 연속값 (2의 배수 10개):\",data)\n",
    "\n",
    "def getMax(data): #최대값을 찾는 함수\n",
    "    return max(data)        \n",
    "print(\"최대값:\",getMax(data))\n",
    "\n",
    "def getMean(data): #평균을 구하는 함수\n",
    "    return sum(data) / len(data)\n",
    "print(\"평균값\",getMean(data))\n",
    "\n",
    "    \n",
    "    "
   ]
  },
  {
   "cell_type": "markdown",
   "metadata": {},
   "source": [
    "# 2. 5명의 국,영,수 점수를 2차원 배열로 생성하여 과목별 평균 학생별 평균을 배열에 저장하여 출력."
   ]
  },
  {
   "cell_type": "code",
   "execution_count": 22,
   "metadata": {},
   "outputs": [
    {
     "name": "stdout",
     "output_type": "stream",
     "text": [
      "5명의 국어,영어,수학 점수: [[10, 20, 30], [20, 30, 40], [30, 40, 50], [40, 50, 60], [50, 60, 70]]\n",
      "과목별 평균: [50.0, 66.66666666666667, 83.33333333333333]\n",
      "학생별 평균: [20.0, 30.0, 40.0, 50.0, 60.0]\n"
     ]
    }
   ],
   "source": [
    "#5명의 국,영,수 점수 2차원배열 생성\n",
    "score = [[10,20,30],[20,30,40],[30,40,50],[40,50,60],[50,60,70]]\n",
    "print(\"5명의 국어,영어,수학 점수:\",score)\n",
    "\n",
    "#평균 구하기 함수\n",
    "def mean(score):\n",
    "    return sum(score)/len(score)\n",
    "\n",
    "#과목 평균함수\n",
    "def sub_Mean(score,sub_num):\n",
    "    sub = []\n",
    "    for i in range(sub_num):\n",
    "        rst = 0\n",
    "        for j in score:\n",
    "            rst += j[i]\n",
    "        sub.append(rst/sub_num)\n",
    "    return sub\n",
    "\n",
    "#학생 평균 함수\n",
    "def stu_Mean(score):\n",
    "    stu = []\n",
    "    for i in score:\n",
    "        stu.append(mean(i))\n",
    "    return stu\n",
    "\n",
    "print(\"과목별 평균:\",sub_Mean(score,3))\n",
    "print(\"학생별 평균:\",stu_Mean(score))\n"
   ]
  }
 ],
 "metadata": {
  "kernelspec": {
   "display_name": "Python 3",
   "language": "python",
   "name": "python3"
  },
  "language_info": {
   "codemirror_mode": {
    "name": "ipython",
    "version": 3
   },
   "file_extension": ".py",
   "mimetype": "text/x-python",
   "name": "python",
   "nbconvert_exporter": "python",
   "pygments_lexer": "ipython3",
   "version": "3.6.6"
  }
 },
 "nbformat": 4,
 "nbformat_minor": 2
}
