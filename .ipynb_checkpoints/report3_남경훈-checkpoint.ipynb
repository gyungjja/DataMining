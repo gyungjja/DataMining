{
 "cells": [
  {
   "cell_type": "markdown",
   "metadata": {},
   "source": [
    "# 1.아래문제를 해결하여 제출 (report3_성명)\n",
    "- 5명의 id,pwd(문자열),age(정수형),sex(범주형)를 저장할 수 있는 dataframe 생성\n",
    "- Series의dict이용하여 생성\n",
    "- indx : id\n",
    "- column : pwd,age,sex "
   ]
  },
  {
   "cell_type": "code",
   "execution_count": 1,
   "metadata": {},
   "outputs": [],
   "source": [
    "import numpy as np\n",
    "import pandas as pd\n",
    "from IPython.display import display"
   ]
  },
  {
   "cell_type": "markdown",
   "metadata": {},
   "source": [
    "### dataframe 생성"
   ]
  },
  {
   "cell_type": "code",
   "execution_count": 36,
   "metadata": {},
   "outputs": [
    {
     "data": {
      "text/html": [
       "<div>\n",
       "<style scoped>\n",
       "    .dataframe tbody tr th:only-of-type {\n",
       "        vertical-align: middle;\n",
       "    }\n",
       "\n",
       "    .dataframe tbody tr th {\n",
       "        vertical-align: top;\n",
       "    }\n",
       "\n",
       "    .dataframe thead th {\n",
       "        text-align: right;\n",
       "    }\n",
       "</style>\n",
       "<table border=\"1\" class=\"dataframe\">\n",
       "  <thead>\n",
       "    <tr style=\"text-align: right;\">\n",
       "      <th></th>\n",
       "      <th>pwd</th>\n",
       "      <th>age</th>\n",
       "      <th>sex</th>\n",
       "    </tr>\n",
       "  </thead>\n",
       "  <tbody>\n",
       "    <tr>\n",
       "      <th>gico</th>\n",
       "      <td>asd123</td>\n",
       "      <td>10</td>\n",
       "      <td>M</td>\n",
       "    </tr>\n",
       "    <tr>\n",
       "      <th>gyungja</th>\n",
       "      <td>asd159</td>\n",
       "      <td>20</td>\n",
       "      <td>F</td>\n",
       "    </tr>\n",
       "    <tr>\n",
       "      <th>rhwmrhwm</th>\n",
       "      <td>qwe159</td>\n",
       "      <td>25</td>\n",
       "      <td>M</td>\n",
       "    </tr>\n",
       "    <tr>\n",
       "      <th>ngh6931</th>\n",
       "      <td>zse161</td>\n",
       "      <td>30</td>\n",
       "      <td>F</td>\n",
       "    </tr>\n",
       "    <tr>\n",
       "      <th>ngh1995</th>\n",
       "      <td>zvs111</td>\n",
       "      <td>40</td>\n",
       "      <td>M</td>\n",
       "    </tr>\n",
       "  </tbody>\n",
       "</table>\n",
       "</div>"
      ],
      "text/plain": [
       "             pwd  age sex\n",
       "gico      asd123   10   M\n",
       "gyungja   asd159   20   F\n",
       "rhwmrhwm  qwe159   25   M\n",
       "ngh6931   zse161   30   F\n",
       "ngh1995   zvs111   40   M"
      ]
     },
     "metadata": {},
     "output_type": "display_data"
    },
    {
     "name": "stdout",
     "output_type": "stream",
     "text": [
      "pwd      object\n",
      "age       int32\n",
      "sex    category\n",
      "dtype: object\n"
     ]
    }
   ],
   "source": [
    "index = ['gico','gyungja','rhwmrhwm','ngh6931','ngh1995']\n",
    "df = pd.DataFrame({'pwd': pd.Series(['asd123','asd159','qwe159','zse161','zvs111'],index=index,dtype='str'),\n",
    "                   'age': pd.Series([10,20,25,30,40], index=index,dtype='int32'), \n",
    "                   'sex': pd.Categorical([\"M\",\"F\",\"M\",\"F\",\"M\"])})\n",
    "display(df)\n",
    "#데이터프레임 타입\n",
    "print(df.dtypes)"
   ]
  },
  {
   "cell_type": "markdown",
   "metadata": {},
   "source": [
    "# 2. 1에서 생성된 데이터프레임을 이용하여 선택 및 추출 처리\n",
    "## (1)특정 id, 특정 pwd 추출\n",
    "## (2)상위 3명만 추출 (loc, iloc 사용)\n",
    "## (3)나이와 성별만 추출\n",
    "## (4)나이가 20대만 추출\n",
    "## (5)성별이 male(남)인 경우만 추출\n",
    "## (6)나이가 30미만인 여성만 추출"
   ]
  },
  {
   "cell_type": "markdown",
   "metadata": {},
   "source": [
    "### (1)특정 id, 특정 pwd 추출"
   ]
  },
  {
   "cell_type": "code",
   "execution_count": 37,
   "metadata": {},
   "outputs": [
    {
     "name": "stdout",
     "output_type": "stream",
     "text": [
      "아이디= Index(['gico', 'gyungja', 'rhwmrhwm', 'ngh6931', 'ngh1995'], dtype='object')\n",
      "id[0]= gico\n",
      "id[1]= gyungja\n",
      "id[2]= rhwmrhwm\n",
      "id[3]= ngh6931\n",
      "id[4]= ngh1995\n",
      "패스워드= gico        asd123\n",
      "gyungja     asd159\n",
      "rhwmrhwm    qwe159\n",
      "ngh6931     zse161\n",
      "ngh1995     zvs111\n",
      "Name: pwd, dtype: object\n",
      "pwd[0]= asd123\n",
      "pwd[1]= asd159\n",
      "pwd[2]= qwe159\n",
      "pwd[3]= zse161\n",
      "pwd[4]= zvs111\n"
     ]
    }
   ],
   "source": [
    "print(\"아이디=\",df.index)\n",
    "#특정 id 추출\n",
    "print(\"id[0]=\",df.index[0])\n",
    "print(\"id[1]=\",df.index[1])\n",
    "print(\"id[2]=\",df.index[2])\n",
    "print(\"id[3]=\",df.index[3])\n",
    "print(\"id[4]=\",df.index[4])\n",
    "\n",
    "#특정 pwd 추출\n",
    "print(\"패스워드=\",df.pwd)\n",
    "print(\"pwd[0]=\",df.pwd[0])\n",
    "print(\"pwd[1]=\",df.pwd[1])\n",
    "print(\"pwd[2]=\",df.pwd[2])\n",
    "print(\"pwd[3]=\",df.pwd[3])\n",
    "print(\"pwd[4]=\",df.pwd[4])"
   ]
  },
  {
   "cell_type": "markdown",
   "metadata": {},
   "source": [
    "### (2)상위 3명만 추출 (loc, iloc 사용)"
   ]
  },
  {
   "cell_type": "code",
   "execution_count": 38,
   "metadata": {},
   "outputs": [
    {
     "name": "stdout",
     "output_type": "stream",
     "text": [
      "df.loc[['gico','gyungja','rhwmrhwm']]=\n",
      "              pwd  age sex\n",
      "gico      asd123   10   M\n",
      "gyungja   asd159   20   F\n",
      "rhwmrhwm  qwe159   25   M\n",
      "df.iloc[0:3]\n",
      "              pwd  age sex\n",
      "gico      asd123   10   M\n",
      "gyungja   asd159   20   F\n",
      "rhwmrhwm  qwe159   25   M\n"
     ]
    }
   ],
   "source": [
    "#loc 사용\n",
    "print(\"df.loc[['gico','gyungja','rhwmrhwm']]=\\n\",df.loc[['gico','gyungja','rhwmrhwm']])\n",
    "#iloc 사용\n",
    "print(\"df.iloc[0:3]\\n\",df.iloc[0:3])"
   ]
  },
  {
   "cell_type": "markdown",
   "metadata": {},
   "source": [
    "### (3)나이와 성별만 추출"
   ]
  },
  {
   "cell_type": "code",
   "execution_count": 39,
   "metadata": {},
   "outputs": [
    {
     "name": "stdout",
     "output_type": "stream",
     "text": [
      "df['age']=\n",
      " gico        10\n",
      "gyungja     20\n",
      "rhwmrhwm    25\n",
      "ngh6931     30\n",
      "ngh1995     40\n",
      "Name: age, dtype: int32\n",
      "df['sex']=\n",
      " gico        M\n",
      "gyungja     F\n",
      "rhwmrhwm    M\n",
      "ngh6931     F\n",
      "ngh1995     M\n",
      "Name: sex, dtype: category\n",
      "Categories (2, object): [F, M]\n"
     ]
    }
   ],
   "source": [
    "#나이\n",
    "print(\"df['age']=\\n\",df['age'])\n",
    "#성별\n",
    "print(\"df['sex']=\\n\",df['sex'])"
   ]
  },
  {
   "cell_type": "markdown",
   "metadata": {},
   "source": [
    "### (4)나이가 20대만 추출"
   ]
  },
  {
   "cell_type": "code",
   "execution_count": 42,
   "metadata": {},
   "outputs": [
    {
     "name": "stdout",
     "output_type": "stream",
     "text": [
      "나이가 20대만 추출=\n",
      "              pwd  age sex\n",
      "gyungja   asd159   20   F\n",
      "rhwmrhwm  qwe159   25   M\n"
     ]
    }
   ],
   "source": [
    "print(\"나이가 20대만 추출=\\n\", df[(df.age >= 20) & (df.age < 30)])"
   ]
  },
  {
   "cell_type": "markdown",
   "metadata": {},
   "source": [
    "### (5)성별이 male(남)인 경우만 추출"
   ]
  },
  {
   "cell_type": "code",
   "execution_count": 45,
   "metadata": {},
   "outputs": [
    {
     "name": "stdout",
     "output_type": "stream",
     "text": [
      "성별이 male인 경우만 추출=\n",
      "              pwd  age sex\n",
      "gico      asd123   10   M\n",
      "rhwmrhwm  qwe159   25   M\n",
      "ngh1995   zvs111   40   M\n"
     ]
    }
   ],
   "source": [
    "print(\"성별이 male인 경우만 추출=\\n\",df[df.sex == 'M'])"
   ]
  },
  {
   "cell_type": "markdown",
   "metadata": {},
   "source": [
    "### (6)나이가 30미만인 여성만 추출"
   ]
  },
  {
   "cell_type": "code",
   "execution_count": 46,
   "metadata": {},
   "outputs": [
    {
     "name": "stdout",
     "output_type": "stream",
     "text": [
      "나이가 30미만인 여성만 추출=\n",
      "             pwd  age sex\n",
      "gyungja  asd159   20   F\n"
     ]
    }
   ],
   "source": [
    "print(\"나이가 30미만인 여성만 추출=\\n\",df[(df.age < 30) & (df.sex == 'F')])"
   ]
  },
  {
   "cell_type": "code",
   "execution_count": null,
   "metadata": {},
   "outputs": [],
   "source": []
  }
 ],
 "metadata": {
  "kernelspec": {
   "display_name": "Python 3",
   "language": "python",
   "name": "python3"
  },
  "language_info": {
   "codemirror_mode": {
    "name": "ipython",
    "version": 3
   },
   "file_extension": ".py",
   "mimetype": "text/x-python",
   "name": "python",
   "nbconvert_exporter": "python",
   "pygments_lexer": "ipython3",
   "version": "3.6.6"
  }
 },
 "nbformat": 4,
 "nbformat_minor": 2
}
