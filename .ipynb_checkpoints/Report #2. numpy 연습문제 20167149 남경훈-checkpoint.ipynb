{
 "cells": [
  {
   "cell_type": "code",
   "execution_count": 1,
   "metadata": {},
   "outputs": [],
   "source": [
    "import numpy as np"
   ]
  },
  {
   "cell_type": "markdown",
   "metadata": {},
   "source": [
    "## 1.배열 생성,Indexing, slicing, Assigning values, reshape, resize 연습"
   ]
  },
  {
   "cell_type": "markdown",
   "metadata": {},
   "source": [
    "### (1)1~25 사이의 2의 배수 12개로 1차원 배열(a) 생성, 출력"
   ]
  },
  {
   "cell_type": "code",
   "execution_count": 22,
   "metadata": {},
   "outputs": [
    {
     "name": "stdout",
     "output_type": "stream",
     "text": [
      "1~25 사이의 2의 배수 12개로 1차원 배열(a) 생성 =  [ 2  4  6  8 10 12 14 16 18 20 22 24]\n"
     ]
    }
   ],
   "source": [
    "a = np.arange(2,25,2)\n",
    "\n",
    "print(\"1~25 사이의 2의 배수 12개로 1차원 배열(a) 생성 = \",a)"
   ]
  },
  {
   "cell_type": "markdown",
   "metadata": {},
   "source": [
    "### (2)a 의 인덱스 2~5의 요소값을 -20으로 수정, 출력"
   ]
  },
  {
   "cell_type": "code",
   "execution_count": 23,
   "metadata": {},
   "outputs": [
    {
     "name": "stdout",
     "output_type": "stream",
     "text": [
      "[  2   4 -20 -20 -20 -20  14  16  18  20  22  24]\n"
     ]
    }
   ],
   "source": [
    "a[2:6] = -20\n",
    "\n",
    "print(a)"
   ]
  },
  {
   "cell_type": "markdown",
   "metadata": {},
   "source": [
    "### (3)a를 이용하여  3X4 배열(b)로 변경, 출력"
   ]
  },
  {
   "cell_type": "code",
   "execution_count": 24,
   "metadata": {
    "scrolled": true
   },
   "outputs": [
    {
     "name": "stdout",
     "output_type": "stream",
     "text": [
      "[[  2   4 -20 -20]\n",
      " [-20 -20  14  16]\n",
      " [ 18  20  22  24]]\n"
     ]
    }
   ],
   "source": [
    "a= a.reshape(3,4)\n",
    "print(a)"
   ]
  },
  {
   "cell_type": "markdown",
   "metadata": {},
   "source": [
    "### (4)a를  2X6 배열로 변경, 출력"
   ]
  },
  {
   "cell_type": "code",
   "execution_count": 25,
   "metadata": {
    "scrolled": true
   },
   "outputs": [
    {
     "name": "stdout",
     "output_type": "stream",
     "text": [
      "[[  2   4 -20 -20 -20 -20]\n",
      " [ 14  16  18  20  22  24]]\n"
     ]
    }
   ],
   "source": [
    "a = a.reshape(2,6)\n",
    "print(a)"
   ]
  },
  {
   "cell_type": "markdown",
   "metadata": {},
   "source": [
    "### (5)a를  1행의 모든 값을  추출하여 a1을 만들고, a1의 모든 값을 0으로 변경, 출력"
   ]
  },
  {
   "cell_type": "code",
   "execution_count": 27,
   "metadata": {},
   "outputs": [
    {
     "name": "stdout",
     "output_type": "stream",
     "text": [
      "[  2   4 -20 -20 -20 -20]\n",
      "0으로 변경: [0 0 0 0 0 0]\n"
     ]
    }
   ],
   "source": [
    "a1 = a[0]\n",
    "print(a1)\n",
    "\n",
    "a1[...] = 0\n",
    "print(\"0으로 변경:\",a1)"
   ]
  },
  {
   "cell_type": "markdown",
   "metadata": {},
   "source": [
    "## 2. 배열 연산, 함수 연습"
   ]
  },
  {
   "cell_type": "markdown",
   "metadata": {},
   "source": [
    "### (1)1~10 사이의 임의의 값으로 3X3 배열 x, y생성, 출력"
   ]
  },
  {
   "cell_type": "code",
   "execution_count": 32,
   "metadata": {},
   "outputs": [
    {
     "name": "stdout",
     "output_type": "stream",
     "text": [
      "x =  [[ 8.  9. 10.]\n",
      " [ 7. 10.  9.]\n",
      " [ 2.  1.  5.]]\n",
      "y =  [[5. 3. 1.]\n",
      " [4. 1. 3.]\n",
      " [5. 6. 2.]]\n"
     ]
    }
   ],
   "source": [
    "x = np.round(11 * np.random.random((3,3)))\n",
    "y = np.round(11 * np.random.random((3,3)))\n",
    "\n",
    "print(\"x = \",x)\n",
    "print(\"y = \",y)"
   ]
  },
  {
   "cell_type": "markdown",
   "metadata": {},
   "source": [
    "### (2)x의 1, 2 행의 모든 열추출, 출력"
   ]
  },
  {
   "cell_type": "code",
   "execution_count": 35,
   "metadata": {},
   "outputs": [
    {
     "name": "stdout",
     "output_type": "stream",
     "text": [
      "1행 =  [ 7. 10.  9.]\n",
      "2행 =  [2. 1. 5.]\n"
     ]
    }
   ],
   "source": [
    "print(\"1행 = \",x[1])\n",
    "print(\"2행 = \",x[2])"
   ]
  },
  {
   "cell_type": "markdown",
   "metadata": {},
   "source": [
    "### (3)x의 2열의 모든 행 추출, 출력"
   ]
  },
  {
   "cell_type": "code",
   "execution_count": 37,
   "metadata": {},
   "outputs": [
    {
     "name": "stdout",
     "output_type": "stream",
     "text": [
      "2열의 모든행 추출 =  [10.  9.  5.]\n"
     ]
    }
   ],
   "source": [
    "print(\"2열의 모든행 추출 = \",x[:,2])"
   ]
  },
  {
   "cell_type": "markdown",
   "metadata": {},
   "source": [
    "### (4)x의 0,2열의 1,2 행 추출, 출력"
   ]
  },
  {
   "cell_type": "code",
   "execution_count": 40,
   "metadata": {},
   "outputs": [
    {
     "name": "stdout",
     "output_type": "stream",
     "text": [
      "0열의 1,2행 추출 =  [7. 2.] 2열의 1,2,행 추출 =  [9. 5.]\n"
     ]
    }
   ],
   "source": [
    "print(\"0열의 1,2행 추출 = \", x[1:,0],\"2열의 1,2,행 추출 = \",x[1:,2])"
   ]
  },
  {
   "cell_type": "markdown",
   "metadata": {},
   "source": [
    "### (5)x의 각행의 합, 각 열의 합, 출력"
   ]
  },
  {
   "cell_type": "code",
   "execution_count": 64,
   "metadata": {},
   "outputs": [
    {
     "name": "stdout",
     "output_type": "stream",
     "text": [
      "x의 각 행의 합 =  [27. 26.  8.]\n",
      "x의 각 열의 합 =  [17. 20. 24.]\n"
     ]
    }
   ],
   "source": [
    "print(\"x의 각 행의 합 = \",x.sum(axis=1))\n",
    "print(\"x의 각 열의 합 = \",x.sum(axis=0))"
   ]
  },
  {
   "cell_type": "markdown",
   "metadata": {},
   "source": [
    "### (6)x의 각행의 최대값, 각 열의 최대값, 출력"
   ]
  },
  {
   "cell_type": "code",
   "execution_count": 62,
   "metadata": {},
   "outputs": [
    {
     "name": "stdout",
     "output_type": "stream",
     "text": [
      "x의 0행의 최대값 =  10.0\n",
      "x의 1행의 최대값 =  10.0\n",
      "x의 2행의 최대값 =  5.0\n",
      "x의 0열의 최대값 =  8.0\n",
      "x의 1열의 최대값 =  10.0\n",
      "x의 2열의 최대값 =  10.0\n"
     ]
    }
   ],
   "source": [
    "print(\"x의 0행의 최대값 = \", np.max(x[0:]))\n",
    "print(\"x의 1행의 최대값 = \", np.max(x[1:]))\n",
    "print(\"x의 2행의 최대값 = \", np.max(x[2:]))\n",
    "print(\"x의 0열의 최대값 = \", np.max(x[:,0]))\n",
    "print(\"x의 1열의 최대값 = \", np.max(x[:,1]))\n",
    "print(\"x의 2열의 최대값 = \", np.max(x[:,2]))"
   ]
  },
  {
   "cell_type": "markdown",
   "metadata": {},
   "source": [
    "### (7)x, y 배열의 합, 곱, 내적을 구하여 출력"
   ]
  },
  {
   "cell_type": "code",
   "execution_count": 69,
   "metadata": {},
   "outputs": [
    {
     "name": "stdout",
     "output_type": "stream",
     "text": [
      "x,y 배열의 합 =  [[13. 12. 11.]\n",
      " [11. 11. 12.]\n",
      " [ 7.  7.  7.]]\n",
      "x,y 배열의 곱 =  [[126.  93.  55.]\n",
      " [120.  85.  55.]\n",
      " [ 39.  37.  15.]]\n",
      "x,y 배열의 내적 =  [[126.  93.  55.]\n",
      " [120.  85.  55.]\n",
      " [ 39.  37.  15.]]\n"
     ]
    }
   ],
   "source": [
    "print(\"x,y 배열의 합 = \", x + y)\n",
    "print(\"x,y 배열의 곱 = \", x @ y)\n",
    "print(\"x,y 배열의 내적 = \", np.dot(x,y))"
   ]
  },
  {
   "cell_type": "markdown",
   "metadata": {},
   "source": [
    "## 3. 배열복사, 결합 연습"
   ]
  },
  {
   "cell_type": "markdown",
   "metadata": {},
   "source": [
    "### (1) 1~3, 10~30, 100~300 3개의 1차원 배열(a1,a2,a3)을 생성하여 행으로 결합하여 y배열 생성"
   ]
  },
  {
   "cell_type": "code",
   "execution_count": 71,
   "metadata": {},
   "outputs": [
    {
     "name": "stdout",
     "output_type": "stream",
     "text": [
      "생성된 배열 = \n",
      " [[  1   2   3]\n",
      " [ 10  20  30]\n",
      " [100 200 300]]\n"
     ]
    }
   ],
   "source": [
    "a1 = np.array([1,2,3])\n",
    "a2 = np.array([10,20,30])\n",
    "a3 = np.array([100,200,300])\n",
    "\n",
    "y = np.vstack([a1,a2,a3])\n",
    "print(\"생성된 배열 = \\n\", y)"
   ]
  },
  {
   "cell_type": "markdown",
   "metadata": {},
   "source": [
    "### (2) y배열의 0,2 열을 복사하여 y1, 1열을 복사하여 y2 생성"
   ]
  },
  {
   "cell_type": "code",
   "execution_count": 91,
   "metadata": {},
   "outputs": [
    {
     "name": "stdout",
     "output_type": "stream",
     "text": [
      "복사된 y1 = \n",
      " [[  1   3]\n",
      " [ 10  30]\n",
      " [100 300]]\n",
      "복사된 y2 = \n",
      " [[  2]\n",
      " [ 20]\n",
      " [200]]\n"
     ]
    }
   ],
   "source": [
    "y1 = np.vstack([y[:,0],y[:,2]])\n",
    "#print(\"0,2열을 행으로 결합 = \", y1)\n",
    "\n",
    "#y1의 전치행렬 반환\n",
    "y1 = y1.T\n",
    "print(\"복사된 y1 = \\n\", y1)\n",
    "\n",
    "y2 = y[:,1].reshape(3,1)\n",
    "print(\"복사된 y2 = \\n\", y2)"
   ]
  },
  {
   "cell_type": "markdown",
   "metadata": {},
   "source": [
    "### (3) y1, y2를 결합하여 yy배열 생성"
   ]
  },
  {
   "cell_type": "code",
   "execution_count": 104,
   "metadata": {},
   "outputs": [
    {
     "name": "stdout",
     "output_type": "stream",
     "text": [
      "결합된 yy배열 = \n",
      " [[  1   3   2]\n",
      " [ 10  30  20]\n",
      " [100 300 200]]\n"
     ]
    }
   ],
   "source": [
    "yy = np.vstack([y1.T,y2.T])\n",
    "yy = yy.T\n",
    "print(\"결합된 yy배열 = \\n\", yy)"
   ]
  },
  {
   "cell_type": "markdown",
   "metadata": {},
   "source": [
    "### (4)yy 배열에서  20~200 범위의 값만을  추출하여  합, 평균 출력"
   ]
  },
  {
   "cell_type": "code",
   "execution_count": 162,
   "metadata": {},
   "outputs": [
    {
     "name": "stdout",
     "output_type": "stream",
     "text": [
      "20~200 범위의 값의 합 =  650\n",
      "20~200 범위의 값의 평균 =  130.0\n"
     ]
    }
   ],
   "source": [
    "a = yy[1,1:3]\n",
    "b = yy[-1]\n",
    "c = np.hstack([a,b])\n",
    "print(\"20~200 범위의 값의 합 = \", np.sum(c))\n",
    "print(\"20~200 범위의 값의 평균 = \", np.mean(c))\n"
   ]
  },
  {
   "cell_type": "code",
   "execution_count": null,
   "metadata": {},
   "outputs": [],
   "source": []
  }
 ],
 "metadata": {
  "kernelspec": {
   "display_name": "Python 3",
   "language": "python",
   "name": "python3"
  },
  "language_info": {
   "codemirror_mode": {
    "name": "ipython",
    "version": 3
   },
   "file_extension": ".py",
   "mimetype": "text/x-python",
   "name": "python",
   "nbconvert_exporter": "python",
   "pygments_lexer": "ipython3",
   "version": "3.6.6"
  }
 },
 "nbformat": 4,
 "nbformat_minor": 2
}
